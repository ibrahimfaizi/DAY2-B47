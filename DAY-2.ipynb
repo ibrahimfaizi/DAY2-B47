{
 "cells": [
  {
   "cell_type": "code",
   "execution_count": 1,
   "id": "a2ec20ab",
   "metadata": {},
   "outputs": [],
   "source": [
    "name = \"ibrahim\" "
   ]
  },
  {
   "cell_type": "code",
   "execution_count": 2,
   "id": "1e4f0e3f",
   "metadata": {},
   "outputs": [
    {
     "name": "stdout",
     "output_type": "stream",
     "text": [
      "ibrahim\n"
     ]
    }
   ],
   "source": [
    "print(name)"
   ]
  },
  {
   "cell_type": "code",
   "execution_count": 3,
   "id": "e1bc406a",
   "metadata": {},
   "outputs": [
    {
     "ename": "SyntaxError",
     "evalue": "invalid syntax (<ipython-input-3-05ca77e3c69a>, line 1)",
     "output_type": "error",
     "traceback": [
      "\u001b[1;36m  File \u001b[1;32m\"<ipython-input-3-05ca77e3c69a>\"\u001b[1;36m, line \u001b[1;32m1\u001b[0m\n\u001b[1;33m    1name=\"ibrahim\"\u001b[0m\n\u001b[1;37m     ^\u001b[0m\n\u001b[1;31mSyntaxError\u001b[0m\u001b[1;31m:\u001b[0m invalid syntax\n"
     ]
    }
   ],
   "source": [
    "1name=\"ibrahim\""
   ]
  },
  {
   "cell_type": "code",
   "execution_count": 4,
   "id": "3d213cdb",
   "metadata": {},
   "outputs": [],
   "source": [
    "name1=\"ibrahim\""
   ]
  },
  {
   "cell_type": "code",
   "execution_count": 5,
   "id": "8078b8d4",
   "metadata": {},
   "outputs": [
    {
     "name": "stdout",
     "output_type": "stream",
     "text": [
      "ibrahim\n"
     ]
    }
   ],
   "source": [
    "print(name1)"
   ]
  },
  {
   "cell_type": "code",
   "execution_count": 6,
   "id": "65ef1908",
   "metadata": {},
   "outputs": [
    {
     "ename": "TypeError",
     "evalue": "unsupported operand type(s) for @=: 'str' and 'str'",
     "output_type": "error",
     "traceback": [
      "\u001b[1;31m---------------------------------------------------------------------------\u001b[0m",
      "\u001b[1;31mTypeError\u001b[0m                                 Traceback (most recent call last)",
      "\u001b[1;32m<ipython-input-6-1dd3d37e6591>\u001b[0m in \u001b[0;36m<module>\u001b[1;34m\u001b[0m\n\u001b[1;32m----> 1\u001b[1;33m \u001b[0mname\u001b[0m\u001b[1;33m@=\u001b[0m\u001b[1;34m\"ibrahim\"\u001b[0m\u001b[1;33m\u001b[0m\u001b[1;33m\u001b[0m\u001b[0m\n\u001b[0m",
      "\u001b[1;31mTypeError\u001b[0m: unsupported operand type(s) for @=: 'str' and 'str'"
     ]
    }
   ],
   "source": [
    "name@=\"ibrahim\""
   ]
  },
  {
   "cell_type": "code",
   "execution_count": 7,
   "id": "5d8ab6d0",
   "metadata": {},
   "outputs": [
    {
     "ename": "SyntaxError",
     "evalue": "invalid syntax (<ipython-input-7-d387795f980f>, line 1)",
     "output_type": "error",
     "traceback": [
      "\u001b[1;36m  File \u001b[1;32m\"<ipython-input-7-d387795f980f>\"\u001b[1;36m, line \u001b[1;32m1\u001b[0m\n\u001b[1;33m    print(name@)\u001b[0m\n\u001b[1;37m               ^\u001b[0m\n\u001b[1;31mSyntaxError\u001b[0m\u001b[1;31m:\u001b[0m invalid syntax\n"
     ]
    }
   ],
   "source": [
    "print(name@)"
   ]
  },
  {
   "cell_type": "code",
   "execution_count": 8,
   "id": "c4f4c223",
   "metadata": {},
   "outputs": [
    {
     "ename": "SyntaxError",
     "evalue": "invalid syntax (<ipython-input-8-36b911573a69>, line 2)",
     "output_type": "error",
     "traceback": [
      "\u001b[1;36m  File \u001b[1;32m\"<ipython-input-8-36b911573a69>\"\u001b[1;36m, line \u001b[1;32m2\u001b[0m\n\u001b[1;33m    string ---> str\u001b[0m\n\u001b[1;37m             ^\u001b[0m\n\u001b[1;31mSyntaxError\u001b[0m\u001b[1;31m:\u001b[0m invalid syntax\n"
     ]
    }
   ],
   "source": [
    "# 5 types of data types\n",
    "string ---> str\n",
    "numbers----> int\n",
    "list ---> list \n",
    "tuple ---> tuple\n",
    "dictonaries ---> dict\n",
    "\n",
    "\n",
    "classification of data types\n",
    "1) Mutable data types ---> which cab edit the data or alter the data ( felxible)\n",
    "2) Immutable data types ---> which cannot be eidtable or alter the the data ( fixed )\n"
   ]
  },
  {
   "cell_type": "code",
   "execution_count": 9,
   "id": "be34af00",
   "metadata": {},
   "outputs": [
    {
     "ename": "SyntaxError",
     "evalue": "unmatched ')' (<ipython-input-9-ce6e3cc46be3>, line 3)",
     "output_type": "error",
     "traceback": [
      "\u001b[1;36m  File \u001b[1;32m\"<ipython-input-9-ce6e3cc46be3>\"\u001b[1;36m, line \u001b[1;32m3\u001b[0m\n\u001b[1;33m    1) single quotes ----> ''\u001b[0m\n\u001b[1;37m     ^\u001b[0m\n\u001b[1;31mSyntaxError\u001b[0m\u001b[1;31m:\u001b[0m unmatched ')'\n"
     ]
    }
   ],
   "source": [
    "# 3 possible combinations\n",
    "\n",
    "# 1) single quotes ----> ''\n",
    "# 2) double quotes ----> \"\"\n",
    "# 3) triple quotes ----> \"\"\"\""
   ]
  },
  {
   "cell_type": "code",
   "execution_count": null,
   "id": "ee77ddf1",
   "metadata": {},
   "outputs": [],
   "source": []
  }
 ],
 "metadata": {
  "kernelspec": {
   "display_name": "Python 3",
   "language": "python",
   "name": "python3"
  },
  "language_info": {
   "codemirror_mode": {
    "name": "ipython",
    "version": 3
   },
   "file_extension": ".py",
   "mimetype": "text/x-python",
   "name": "python",
   "nbconvert_exporter": "python",
   "pygments_lexer": "ipython3",
   "version": "3.8.8"
  }
 },
 "nbformat": 4,
 "nbformat_minor": 5
}
